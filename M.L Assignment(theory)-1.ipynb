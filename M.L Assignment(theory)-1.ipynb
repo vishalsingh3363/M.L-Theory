{
 "cells": [
  {
   "cell_type": "code",
   "execution_count": null,
   "id": "0cab3e2e",
   "metadata": {},
   "outputs": [],
   "source": [
    "1. What does one mean by the term machine learning ?\n",
    "\n",
    "Ans-1 Machine learning is about training the data and recieving the accurate outcomes."
   ]
  },
  {
   "cell_type": "code",
   "execution_count": null,
   "id": "cf0d6035",
   "metadata": {},
   "outputs": [],
   "source": [
    "2.Can you think of 4 distinct types of issues where it shines?\n",
    "\n",
    "Ans-2 overfitting data, underfitting data, lacking in data and non-representative data."
   ]
  },
  {
   "cell_type": "code",
   "execution_count": null,
   "id": "7ac1d761",
   "metadata": {},
   "outputs": [],
   "source": [
    "3.What is a labeled training set, and how does it work?\n",
    "\n",
    "Ans-3 it is used to train the model with the algorithms and aftrer getting trained on train dataset it is test set to predict the response variable "
   ]
  },
  {
   "cell_type": "code",
   "execution_count": null,
   "id": "e36ffd7e",
   "metadata": {},
   "outputs": [],
   "source": [
    "4.What are the two most important tasks that are supervised?\n",
    "\n",
    "Ans-4 regression and classification"
   ]
  },
  {
   "cell_type": "code",
   "execution_count": null,
   "id": "6a8b937f",
   "metadata": {},
   "outputs": [],
   "source": [
    "5.Can you think of four examples of unsupervised tasks?\n",
    "\n",
    "Ans-5 clustering, visualization, dimensionality reduction, and association rule learning."
   ]
  },
  {
   "cell_type": "code",
   "execution_count": null,
   "id": "1fef4462",
   "metadata": {},
   "outputs": [],
   "source": [
    "6.State the machine learning model that would be best to make a robot walk through various\n",
    "unfamiliar terrains?\n",
    "\n",
    "Ans-6  the machine learning model that would be best to make a robot walk through various\n",
    "unfamiliar terrains is Reinforced Learning\n"
   ]
  },
  {
   "cell_type": "code",
   "execution_count": null,
   "id": "0c4d3e50",
   "metadata": {},
   "outputs": [],
   "source": [
    "7.Which algorithm will you use to divide your customers into different groups?\n",
    "\n",
    "Ans-7  k-means clustering algorithm"
   ]
  },
  {
   "cell_type": "code",
   "execution_count": null,
   "id": "0299f942",
   "metadata": {},
   "outputs": [],
   "source": [
    "8.Will you consider the problem of spam detection to be a supervised or unsupervised learning\n",
    "problem?\n",
    "\n",
    "Ans-8 Spam detection is a supervised learning problem."
   ]
  },
  {
   "cell_type": "code",
   "execution_count": null,
   "id": "7bc3aa66",
   "metadata": {},
   "outputs": [],
   "source": [
    "9.What is the concept of an online learning system?\n",
    "\n",
    "Ans-9 Online learning system is a learning system in which the machine learns as data is given in small streams continuously.\n",
    "\n"
   ]
  },
  {
   "cell_type": "code",
   "execution_count": null,
   "id": "e010618b",
   "metadata": {},
   "outputs": [],
   "source": [
    "10.What is out-of-core learning, and how does it differ from core learning?\n",
    "\n",
    "Ans-10 Out-of-core learning system is a system that can handle data that cannot fit into your computer memory. It uses online learning system to feed data in small bit"
   ]
  },
  {
   "cell_type": "code",
   "execution_count": null,
   "id": "6f8b2d93",
   "metadata": {},
   "outputs": [],
   "source": [
    "11.What kind of learning algorithm makes predictions using a similarity measure?\n",
    "\n",
    "Ans-11 instance-based algorithm.\n",
    "\n"
   ]
  },
  {
   "cell_type": "code",
   "execution_count": null,
   "id": "03b55dd8",
   "metadata": {},
   "outputs": [],
   "source": [
    "12.What is the difference between a model parameter and a hyperparameter in a learning\n",
    "algorithm?\n",
    "\n",
    "Ans-12 Model parameter determines how a model will predict given a new instance; model usually has more than one parameter (i.e. slope of a linear model). Hyperparameter is a parameter for the learning algorithm, not of a model."
   ]
  },
  {
   "cell_type": "code",
   "execution_count": null,
   "id": "03450db2",
   "metadata": {},
   "outputs": [],
   "source": [
    "13.What are the criteria that model-based learning algorithms look for? What is the most popular\n",
    "method they use to achieve success? What method do they use to make predictions?\n",
    "\n",
    "Ans-13 Model based learning algorithm search for the optimal value of parameters in a model that will give the best results for the new instances. We often use a cost function or similar to determine what the parameter value has to be in order to minimize the function. The model makes prediction by using the value of the new instance and the parameters in its function."
   ]
  },
  {
   "cell_type": "code",
   "execution_count": null,
   "id": "cf524aff",
   "metadata": {},
   "outputs": [],
   "source": [
    "14.Can you name four of the most important Machine Learning challenges?\n",
    "\n",
    "Ans-14 overfitting data, underfitting data, lacking in data and non-representative data."
   ]
  },
  {
   "cell_type": "code",
   "execution_count": null,
   "id": "fbdc1c05",
   "metadata": {},
   "outputs": [],
   "source": [
    "15.What happens if the model performs well on the training data but fails to generalize the results\n",
    "to new situations? Can you think of three different options?\n",
    "\n",
    "Ans-15 if the model performs well on the training data but fails to generalize the results\n",
    "to new situations then it has overfit data, we can do\n",
    "1-removing outliers \n",
    "2-adding data\n",
    "3-training data on another model"
   ]
  },
  {
   "cell_type": "code",
   "execution_count": null,
   "id": "a50285c7",
   "metadata": {},
   "outputs": [],
   "source": [
    "16.What exactly is a test set, and why would you need one?\n",
    "\n",
    "Ans-16 Test set is a part of main data which is used for testing the accuracy of model after training the data"
   ]
  },
  {
   "cell_type": "code",
   "execution_count": null,
   "id": "912a8901",
   "metadata": {},
   "outputs": [],
   "source": [
    "17.What is a validation set purpose?\n",
    "\n",
    "Ans-17 Validation set is a set used to compare between different training models.\n",
    "\n"
   ]
  },
  {
   "cell_type": "code",
   "execution_count": null,
   "id": "524e7f60",
   "metadata": {},
   "outputs": [],
   "source": [
    "18.What precisely is the train-dev kit, when will you need it, how do you put it to use?\n",
    "\n",
    "Ans-18 The goal of dev-set is to rank the models in term of their accuracy and helps us decide which model to proceed further with. Using Dev set we rank all our models in terms of their accuracy and pick the best performing model."
   ]
  },
  {
   "cell_type": "code",
   "execution_count": null,
   "id": "b08a1be6",
   "metadata": {},
   "outputs": [],
   "source": [
    "19.What could go wrong if you use the test set to tune hyperparameters?\n",
    "\n",
    "Ans-19 If you tune hyperparameters using the test sets, then it may not perform well on the out-of-sample data because the model is tuned just for that specific set."
   ]
  },
  {
   "cell_type": "code",
   "execution_count": null,
   "id": "ec4136fa",
   "metadata": {},
   "outputs": [],
   "source": []
  },
  {
   "cell_type": "code",
   "execution_count": null,
   "id": "2b332823",
   "metadata": {},
   "outputs": [],
   "source": []
  },
  {
   "cell_type": "code",
   "execution_count": null,
   "id": "dbfa755d",
   "metadata": {},
   "outputs": [],
   "source": []
  },
  {
   "cell_type": "code",
   "execution_count": null,
   "id": "17642772",
   "metadata": {},
   "outputs": [],
   "source": []
  }
 ],
 "metadata": {
  "kernelspec": {
   "display_name": "Python 3 (ipykernel)",
   "language": "python",
   "name": "python3"
  },
  "language_info": {
   "codemirror_mode": {
    "name": "ipython",
    "version": 3
   },
   "file_extension": ".py",
   "mimetype": "text/x-python",
   "name": "python",
   "nbconvert_exporter": "python",
   "pygments_lexer": "ipython3",
   "version": "3.9.12"
  }
 },
 "nbformat": 4,
 "nbformat_minor": 5
}
