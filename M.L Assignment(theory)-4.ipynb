{
 "cells": [
  {
   "cell_type": "code",
   "execution_count": null,
   "id": "35e349fa",
   "metadata": {},
   "outputs": [],
   "source": [
    "1. What are the key tasks involved in getting ready to work with machine learning modeling?\n",
    "\n",
    "Ans-1 collecting data, prepearing the data , choose the model, train machine model,parameter tuning, test the model and evaluate"
   ]
  },
  {
   "cell_type": "code",
   "execution_count": null,
   "id": "616e4fa1",
   "metadata": {},
   "outputs": [],
   "source": [
    "2. What are the different forms of data used in machine learning? Give a specific example for each of\n",
    "them.\n",
    "\n",
    "Ans-2 Numerical, categorical, text and time series.\n",
    "\n",
    "Numerical data- height of students, weight of student.\n",
    "categorical data- beginner, intermediate, advance\n",
    "textual data- text in a picture\n",
    "time series- stock price prediction"
   ]
  },
  {
   "cell_type": "code",
   "execution_count": null,
   "id": "3544df0c",
   "metadata": {},
   "outputs": [],
   "source": [
    "3. Distinguish:\n",
    "  \n",
    "1. Numeric vs. categorical attributes\n",
    "\n",
    "Ans- Categorical data refers to a data type that can be stored and identified based on the names or labels given to them. \n",
    "\n",
    "Numerical data refers to the data that is in the form of numbers, and not in any language or descriptive form\n",
    "\n",
    "\n",
    "2. Feature selection vs. dimensionality reduction\n",
    "\n",
    "Feature selection- it is practice of selecting the features which are highly linked with the outcome.\n",
    "\n",
    "dimensionality reduction- It is technique of reducing the amount of random variables in a problem by obtaining a set of principal variables."
   ]
  },
  {
   "cell_type": "code",
   "execution_count": null,
   "id": "46554684",
   "metadata": {},
   "outputs": [],
   "source": [
    "4. Make quick notes on any two of the following:\n",
    "\n",
    "1. The histogram\n",
    "\n",
    "2. Use a scatter plot\n",
    "\n",
    "3.PCA (Personal Computer Aid)\n",
    "\n",
    "Ans-4 \n",
    "-Use a scatter plot: A scatter plot (aka scatter chart, scatter graph) uses dots to represent values for two different numeric variables. The position of each dot on the horizontal and vertical axis indicates values for an individual data point. Scatter plots are used to observe relationships between variables.\n",
    "\n",
    "-PCA (Personal Computer Aid): Principal Component Analysis or PCA is a widely used technique for dimensionality reduction of the large data set. Reducing the number of components or features costs some accuracy and on the other hand, it makes the large data set simpler, easy to explore and visualize."
   ]
  },
  {
   "cell_type": "code",
   "execution_count": null,
   "id": "1e2ad125",
   "metadata": {},
   "outputs": [],
   "source": [
    "5. Why is it necessary to investigate data? Is there a discrepancy in how qualitative and quantitative\n",
    "data are explored?\n",
    "\n",
    "Ans-5 If your data set is messy, building models will not help you to solve your problem. What will happen is Garbage In, Garbage Out. In order to build a powerful machine learning algorithm. We need to explore and understand our data set before we define a predictive task and solve it."
   ]
  },
  {
   "cell_type": "code",
   "execution_count": null,
   "id": "712937bf",
   "metadata": {},
   "outputs": [],
   "source": [
    "6. What are the various histogram shapes? What exactly are bins\n",
    "\n",
    "Ans-6  The different types of a Histogram are:\n",
    "\n",
    "1. Uniform Histogram\n",
    "2. Symmetric Histogram\n",
    "3. Bimodal Histogram\n",
    "4. Probability Histogram.\n",
    "\n",
    "The bin in a histogram is the choice of unit and spacing on the X-axis. All the data in a probability distribution represented visually by a histogram is filled into the corresponding bins. The height of each bin is a measurement of the frequency with which data appears inside the range of that bin in the distribution."
   ]
  },
  {
   "cell_type": "code",
   "execution_count": null,
   "id": "5bddaea4",
   "metadata": {},
   "outputs": [],
   "source": [
    "7. How do we deal with data outliers?\n",
    "\n",
    "Ans-7 by scatter plot we can check outliers and we can remove them by introducing Z-Score concept and also by Calculate IQR score to filter out the outliers by keeping only valid values. "
   ]
  },
  {
   "cell_type": "code",
   "execution_count": null,
   "id": "9e85822a",
   "metadata": {},
   "outputs": [],
   "source": [
    "8. What are the various central inclination measures? Why does mean vary too much from median in\n",
    "certain data sets?\n",
    "\n",
    "Ans-8 Mean, Median and Mode are Central Inclination Measures. Mean varies more than Median due to presence of outliers, as mean is averaging all points while median in like finding a middle number."
   ]
  },
  {
   "cell_type": "code",
   "execution_count": null,
   "id": "931afad0",
   "metadata": {},
   "outputs": [],
   "source": [
    "9. Describe how a scatter plot can be used to investigate bivariate relationships. Is it possible to find\n",
    "outliers using a scatter plot?\n",
    "\n",
    "Ans-9 A Scatter Plot (aka scatter chart, scatter graph) uses dots to represent values for two different numeric variables. The position of each dot on the horizontal and vertical axis indicates values for an individual data point. So this visualization gives us the idea of bivariate relationship.\n",
    "\n",
    "Scatter plot can also help finding outliers as outliers can be visualized at farther distance than regular data."
   ]
  },
  {
   "cell_type": "code",
   "execution_count": null,
   "id": "1fef600a",
   "metadata": {},
   "outputs": [],
   "source": [
    "10. Describe how cross-tabs can be used to figure out how two variables are related.\n",
    "\n",
    "Ans-10 Cross tabulation is a method to quantitatively analyze the relationship between multiple variables. Also known as contingency tables or cross tabs, cross tabulation groups variables to understand the correlation between different variables. It also shows how correlations change from one variable grouping to another."
   ]
  },
  {
   "cell_type": "code",
   "execution_count": null,
   "id": "dafcc217",
   "metadata": {},
   "outputs": [],
   "source": []
  }
 ],
 "metadata": {
  "kernelspec": {
   "display_name": "Python 3 (ipykernel)",
   "language": "python",
   "name": "python3"
  },
  "language_info": {
   "codemirror_mode": {
    "name": "ipython",
    "version": 3
   },
   "file_extension": ".py",
   "mimetype": "text/x-python",
   "name": "python",
   "nbconvert_exporter": "python",
   "pygments_lexer": "ipython3",
   "version": "3.9.12"
  }
 },
 "nbformat": 4,
 "nbformat_minor": 5
}
