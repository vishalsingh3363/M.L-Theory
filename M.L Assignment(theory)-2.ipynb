{
 "cells": [
  {
   "cell_type": "code",
   "execution_count": null,
   "id": "ac523ddc",
   "metadata": {},
   "outputs": [],
   "source": [
    "1. What is the concept of human learning? Please give two examples.\n",
    "\n",
    "Ans-1 it is type of learning which require high level of mental processes\n",
    "examples are- thinking and questioning"
   ]
  },
  {
   "cell_type": "code",
   "execution_count": null,
   "id": "2f2fa377",
   "metadata": {},
   "outputs": [],
   "source": [
    "2. What different forms of human learning are there? Are there any machine learning equivalents?\n",
    "\n",
    "Ans-2 forms of human learning are visual, auditory, and kinesthetic. Humans acquire knowledge through experience either directly or shared by others. Machines acquire knowledge through experience shared in the form of past data."
   ]
  },
  {
   "cell_type": "code",
   "execution_count": null,
   "id": "8b8c4505",
   "metadata": {},
   "outputs": [],
   "source": [
    "3. What is machine learning, and how does it work? What are the key responsibilities of machine\n",
    "learning?\n",
    "\n",
    "Ans-3 Machine learning is about training the model with data and checking the accuracy of model with data, key responsibilities of machine learning are  exploring data and identifying patterns, and involves minimal human intervention."
   ]
  },
  {
   "cell_type": "code",
   "execution_count": null,
   "id": "05cbf620",
   "metadata": {},
   "outputs": [],
   "source": [
    "4. Define the terms penalty and reward in the context of reinforcement learning.\n",
    " \n",
    "Ans-4 There is a mechanism in reinforcement learning that is used to give feedback to actor if feedback is positive it is reward and if feed back is negative then it is penalty. "
   ]
  },
  {
   "cell_type": "code",
   "execution_count": null,
   "id": "05fc1fb8",
   "metadata": {},
   "outputs": [],
   "source": [
    "5. Explain the term learning as a search?\n",
    "\n",
    "Ans-5 Learning as a search means finding a hypothesis (assumption) that best fit training example."
   ]
  },
  {
   "cell_type": "code",
   "execution_count": null,
   "id": "5a23da94",
   "metadata": {},
   "outputs": [],
   "source": [
    "6. What are the various goals of machine learning? What is the relationship between these and\n",
    "human learning?\n",
    "\n",
    "Ans-6 goals of machine learning are, building customer relationship, business intelligence, human resource in formation system, "
   ]
  },
  {
   "cell_type": "code",
   "execution_count": null,
   "id": "d85c9588",
   "metadata": {},
   "outputs": [],
   "source": [
    "7. Illustrate the various elements of machine learning using a real-life illustration.\n",
    "\n",
    "Ans-7  Email Spam and Malware Filtering, Online Customer Support, Search Engine Result Refining, Online Fraud Detection, Intelligent Gaming"
   ]
  },
  {
   "cell_type": "code",
   "execution_count": null,
   "id": "649517f9",
   "metadata": {},
   "outputs": [],
   "source": [
    "8. Provide an example of the abstraction method.\n",
    "\n",
    "Ans-8 Abstraction is a simplification of the representation of a problem which enables that problem to be solved more efficiently (using less memory and/or less computation). Examples of data abstraction are:\n",
    "\n",
    "-Reducing spatial/temporal resolution.\n",
    "-Discretise continuous variables into important goal-oriented ranges.\n",
    "-Classify patterns by discrete labels.\n",
    "-Reduce dimensionality by projection onto a subspace."
   ]
  },
  {
   "cell_type": "code",
   "execution_count": null,
   "id": "cdb2583d",
   "metadata": {},
   "outputs": [],
   "source": [
    "9. What is the concept of generalization? What function does it play in the machine learning\n",
    "process?\n",
    "\n",
    "Ans-9 Generalization is ability of model to adapt properly to new, previously unseen data, drawn from the same distribution as the one used to create the model.\n",
    "A model ability to generalize is central to the success of a model"
   ]
  },
  {
   "cell_type": "code",
   "execution_count": null,
   "id": "dbbc8521",
   "metadata": {},
   "outputs": [],
   "source": [
    "10. What is classification, exactly? What are the main distinctions between classification and regression?\n",
    "\n",
    "Ans-10 The output variable has to be a discrete value, Classification tries to find the decision boundary, which divides the dataset into different classes.\n",
    "\n",
    "the difference between classification and regression is that Regression are used with continuous data.\n",
    " \n",
    "Classification is used with discrete data."
   ]
  },
  {
   "cell_type": "code",
   "execution_count": null,
   "id": "e12e140e",
   "metadata": {},
   "outputs": [],
   "source": [
    "11. What is regression, and how does it work? Give an example of a real-world problem that was\n",
    "solved using regression.\n",
    "\n",
    "Ans-11  In regression output variable is a real or continuous value, such as “salary” or “weight” or \"height\".\n",
    "calculating BMI, Forecasting sales"
   ]
  },
  {
   "cell_type": "code",
   "execution_count": null,
   "id": "6012156e",
   "metadata": {},
   "outputs": [],
   "source": [
    "12. Describe the clustering mechanism in detail.\n",
    "\n",
    "Ans-12 In clustering we identify the clusters as we dont have any information about the target variable. we identify the random point and try to create the cluster\n",
    "we keep on doing this until and unless no point changes cluster"
   ]
  },
  {
   "cell_type": "code",
   "execution_count": null,
   "id": "2279d914",
   "metadata": {},
   "outputs": [],
   "source": [
    "13. Make brief observations on two of the following topics:\n",
    "\n",
    "i. Machine learning algorithms are used\n",
    "ii. Studying under supervision\n",
    "iii. Studying without supervision\n",
    "\n",
    "iv. Reinforcement learning is a form of learning based on positive reinforcement.\n",
    "\n",
    "\n",
    "Ans-13 \n",
    "i) Studying under supervision- Supervised learning, also known as supervised machine learning, is a subcategory of machine learning and artificial intelligence. It is defined by its use of labeled datasets to train algorithms that to classify data or predict outcomes accurately. As input data is fed into the model, it adjusts its weights until the model has been fitted appropriately, which occurs as part of the cross validation process. Supervised learning helps organizations solve for a variety of real-world problems at scale, such as classifying spam in a separate folder from your inbox.\n",
    "\n",
    "ii) Studying without supervision - Unsupervised learning, also known as unsupervised machine learning, uses machine learning algorithms to analyze and cluster unlabeled datasets. These algorithms discover hidden patterns or data groupings without the need for human intervention. Its ability to discover similarities and differences in information make it the ideal solution for exploratory data analysis, cross-selling strategies, customer segmentation, and image recognition."
   ]
  },
  {
   "cell_type": "code",
   "execution_count": null,
   "id": "2175a4cd",
   "metadata": {},
   "outputs": [],
   "source": []
  },
  {
   "cell_type": "code",
   "execution_count": null,
   "id": "83f217e4",
   "metadata": {},
   "outputs": [],
   "source": []
  }
 ],
 "metadata": {
  "kernelspec": {
   "display_name": "Python 3 (ipykernel)",
   "language": "python",
   "name": "python3"
  },
  "language_info": {
   "codemirror_mode": {
    "name": "ipython",
    "version": 3
   },
   "file_extension": ".py",
   "mimetype": "text/x-python",
   "name": "python",
   "nbconvert_exporter": "python",
   "pygments_lexer": "ipython3",
   "version": "3.9.12"
  }
 },
 "nbformat": 4,
 "nbformat_minor": 5
}
